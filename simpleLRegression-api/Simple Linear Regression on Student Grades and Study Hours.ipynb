{
 "cells": [
  {
   "cell_type": "markdown",
   "id": "d82dc474",
   "metadata": {},
   "source": [
    "## Simple Linear Regression to predict Student Grades. \n"
   ]
  },
  {
   "cell_type": "markdown",
   "id": "efac132e",
   "metadata": {},
   "source": [
    "We are going to use simple linear regression to predict student grades using their study hours. "
   ]
  },
  {
   "cell_type": "markdown",
   "id": "81c4f60f",
   "metadata": {},
   "source": [
    "## Loading Relevant Libraries"
   ]
  },
  {
   "cell_type": "code",
   "execution_count": 36,
   "id": "365cd5f1",
   "metadata": {},
   "outputs": [],
   "source": [
    "import pandas as pd\n",
    "import numpy as np\n",
    "import matplotlib.pyplot as plot\n",
    "import seaborn as sns\n",
    "import statsmodels.api as stats\n",
    "import warnings\n",
    "warnings.filterwarnings(\"ignore\")"
   ]
  },
  {
   "cell_type": "markdown",
   "id": "53002dcb",
   "metadata": {},
   "source": [
    "## Import file"
   ]
  },
  {
   "cell_type": "code",
   "execution_count": 4,
   "id": "67df19c1",
   "metadata": {},
   "outputs": [],
   "source": [
    "grades_df = pd.read_csv(\"../Regression/score.csv\")"
   ]
  },
  {
   "cell_type": "markdown",
   "id": "ddf26c4a",
   "metadata": {},
   "source": [
    "## Assess Data"
   ]
  },
  {
   "cell_type": "code",
   "execution_count": 5,
   "id": "e24c8a67",
   "metadata": {},
   "outputs": [
    {
     "data": {
      "text/plain": [
       "(25, 2)"
      ]
     },
     "execution_count": 5,
     "metadata": {},
     "output_type": "execute_result"
    }
   ],
   "source": [
    "grades_df.shape"
   ]
  },
  {
   "cell_type": "code",
   "execution_count": 6,
   "id": "a4ddbe99",
   "metadata": {},
   "outputs": [
    {
     "data": {
      "text/html": [
       "<div>\n",
       "<style scoped>\n",
       "    .dataframe tbody tr th:only-of-type {\n",
       "        vertical-align: middle;\n",
       "    }\n",
       "\n",
       "    .dataframe tbody tr th {\n",
       "        vertical-align: top;\n",
       "    }\n",
       "\n",
       "    .dataframe thead th {\n",
       "        text-align: right;\n",
       "    }\n",
       "</style>\n",
       "<table border=\"1\" class=\"dataframe\">\n",
       "  <thead>\n",
       "    <tr style=\"text-align: right;\">\n",
       "      <th></th>\n",
       "      <th>Hours</th>\n",
       "      <th>Scores</th>\n",
       "    </tr>\n",
       "  </thead>\n",
       "  <tbody>\n",
       "    <tr>\n",
       "      <th>0</th>\n",
       "      <td>2.5</td>\n",
       "      <td>21</td>\n",
       "    </tr>\n",
       "    <tr>\n",
       "      <th>1</th>\n",
       "      <td>5.1</td>\n",
       "      <td>47</td>\n",
       "    </tr>\n",
       "    <tr>\n",
       "      <th>2</th>\n",
       "      <td>3.2</td>\n",
       "      <td>27</td>\n",
       "    </tr>\n",
       "    <tr>\n",
       "      <th>3</th>\n",
       "      <td>8.5</td>\n",
       "      <td>75</td>\n",
       "    </tr>\n",
       "    <tr>\n",
       "      <th>4</th>\n",
       "      <td>3.5</td>\n",
       "      <td>30</td>\n",
       "    </tr>\n",
       "  </tbody>\n",
       "</table>\n",
       "</div>"
      ],
      "text/plain": [
       "   Hours  Scores\n",
       "0    2.5      21\n",
       "1    5.1      47\n",
       "2    3.2      27\n",
       "3    8.5      75\n",
       "4    3.5      30"
      ]
     },
     "execution_count": 6,
     "metadata": {},
     "output_type": "execute_result"
    }
   ],
   "source": [
    "grades_df.head()"
   ]
  },
  {
   "cell_type": "code",
   "execution_count": 7,
   "id": "2f210259",
   "metadata": {},
   "outputs": [
    {
     "name": "stdout",
     "output_type": "stream",
     "text": [
      "<class 'pandas.core.frame.DataFrame'>\n",
      "RangeIndex: 25 entries, 0 to 24\n",
      "Data columns (total 2 columns):\n",
      " #   Column  Non-Null Count  Dtype  \n",
      "---  ------  --------------  -----  \n",
      " 0   Hours   25 non-null     float64\n",
      " 1   Scores  25 non-null     int64  \n",
      "dtypes: float64(1), int64(1)\n",
      "memory usage: 528.0 bytes\n"
     ]
    }
   ],
   "source": [
    "grades_df.info()"
   ]
  },
  {
   "cell_type": "markdown",
   "id": "935e18f4",
   "metadata": {},
   "source": [
    "There are two numerical variables and 25 Observations in this dataset. "
   ]
  },
  {
   "cell_type": "code",
   "execution_count": 8,
   "id": "3a588f87",
   "metadata": {},
   "outputs": [
    {
     "data": {
      "text/plain": [
       "Hours     0\n",
       "Scores    0\n",
       "dtype: int64"
      ]
     },
     "execution_count": 8,
     "metadata": {},
     "output_type": "execute_result"
    }
   ],
   "source": [
    "grades_df.isnull().sum()"
   ]
  },
  {
   "cell_type": "code",
   "execution_count": 9,
   "id": "b1e4e7cd",
   "metadata": {},
   "outputs": [
    {
     "data": {
      "text/plain": [
       "Hours     0\n",
       "Scores    0\n",
       "dtype: int64"
      ]
     },
     "execution_count": 9,
     "metadata": {},
     "output_type": "execute_result"
    }
   ],
   "source": [
    "grades_df.isna().sum()"
   ]
  },
  {
   "cell_type": "markdown",
   "id": "54339b74",
   "metadata": {},
   "source": [
    "There are no null or empty values in the dataset. "
   ]
  },
  {
   "cell_type": "markdown",
   "id": "e7edde6a",
   "metadata": {},
   "source": [
    "## Visualizing the data"
   ]
  },
  {
   "cell_type": "code",
   "execution_count": 10,
   "id": "9e68111a",
   "metadata": {},
   "outputs": [
    {
     "data": {
      "image/png": "[encoded data removed]",
      "text/plain": [
       "<Figure size 640x480 with 1 Axes>"
      ]
     },
     "metadata": {},
     "output_type": "display_data"
    }
   ],
   "source": [
    "plot.scatter(grades_df.Hours, grades_df.Scores)\n",
    "plot.xlabel('Study Hours')\n",
    "plot.ylabel('Scores')\n",
    "plot.show()"
   ]
  },
  {
   "cell_type": "markdown",
   "id": "c9f5b698",
   "metadata": {},
   "source": [
    "We can see that there could be some relationship between the input variable and the Target variable. "
   ]
  },
  {
   "cell_type": "code",
   "execution_count": 34,
   "id": "d0f999f9",
   "metadata": {},
   "outputs": [
    {
     "data": {
      "image/png": "[encoded data removed]",
      "text/plain": [
       "<Figure size 640x480 with 1 Axes>"
      ]
     },
     "metadata": {},
     "output_type": "display_data"
    },
    {
     "name": "stdout",
     "output_type": "stream",
     "text": [
      "count    25.000000\n",
      "mean     51.480000\n",
      "std      25.286887\n",
      "min      17.000000\n",
      "25%      30.000000\n",
      "50%      47.000000\n",
      "75%      75.000000\n",
      "max      95.000000\n",
      "Name: Scores, dtype: float64\n"
     ]
    }
   ],
   "source": [
    "sns.boxplot(grades_df.Scores, orient = 'h')\n",
    "plot.show()\n",
    "print(grades_df['Scores'].describe())"
   ]
  },
  {
   "cell_type": "markdown",
   "id": "7fa7312c",
   "metadata": {},
   "source": [
    "## Train and Test data "
   ]
  },
  {
   "cell_type": "markdown",
   "id": "94e1ed13",
   "metadata": {},
   "source": [
    "Here, we are going to split the dataset into testing and Training dataset; Allocating 70% to the training data and 30% to the testing dataset"
   ]
  },
  {
   "cell_type": "code",
   "execution_count": 11,
   "id": "44137bb7",
   "metadata": {},
   "outputs": [],
   "source": [
    "train_df = grades_df.sample(frac=0.7, random_state=99) \n",
    "test_df = grades_df.drop(train_df.index)"
   ]
  },
  {
   "cell_type": "code",
   "execution_count": 12,
   "id": "a661dc89",
   "metadata": {},
   "outputs": [
    {
     "data": {
      "text/plain": [
       "(18, 2)"
      ]
     },
     "execution_count": 12,
     "metadata": {},
     "output_type": "execute_result"
    }
   ],
   "source": [
    "train_df.shape"
   ]
  },
  {
   "cell_type": "code",
   "execution_count": 13,
   "id": "4ff0e973",
   "metadata": {},
   "outputs": [
    {
     "data": {
      "text/plain": [
       "(7, 2)"
      ]
     },
     "execution_count": 13,
     "metadata": {},
     "output_type": "execute_result"
    }
   ],
   "source": [
    "test_df.shape"
   ]
  },
  {
   "cell_type": "code",
   "execution_count": 14,
   "id": "e4667c89",
   "metadata": {},
   "outputs": [
    {
     "data": {
      "image/png": "[encoded data removed]",
      "text/plain": [
       "<Figure size 640x480 with 1 Axes>"
      ]
     },
     "metadata": {},
     "output_type": "display_data"
    }
   ],
   "source": [
    "plot.scatter(train_df.Hours, train_df.Scores)\n",
    "plot.xlabel('Study Hours')\n",
    "plot.ylabel('Scores')\n",
    "plot.show()"
   ]
  },
  {
   "cell_type": "markdown",
   "id": "cefe7a24",
   "metadata": {},
   "source": [
    "## Fit the Regression Model"
   ]
  },
  {
   "cell_type": "markdown",
   "id": "2d21aea1",
   "metadata": {},
   "source": [
    "Using Statsmodels, we will fit a regression line and then use OLS to create the model."
   ]
  },
  {
   "cell_type": "code",
   "execution_count": 15,
   "id": "94ff9e19",
   "metadata": {},
   "outputs": [],
   "source": [
    "Y_train = train_df.Scores\n",
    "X_train = stats.add_constant(train_df.Hours)"
   ]
  },
  {
   "cell_type": "code",
   "execution_count": 18,
   "id": "095d9021",
   "metadata": {},
   "outputs": [],
   "source": [
    "model_scores = stats.OLS(Y_train, X_train)\n",
    "results_scores = model_scores.fit()"
   ]
  },
  {
   "cell_type": "code",
   "execution_count": 37,
   "id": "227e8028",
   "metadata": {},
   "outputs": [
    {
     "name": "stdout",
     "output_type": "stream",
     "text": [
      "                            OLS Regression Results                            \n",
      "==============================================================================\n",
      "Dep. Variable:                 Scores   R-squared:                       0.966\n",
      "Model:                            OLS   Adj. R-squared:                  0.964\n",
      "Method:                 Least Squares   F-statistic:                     450.1\n",
      "Date:                Tue, 04 Jul 2023   Prob (F-statistic):           3.84e-13\n",
      "Time:                        10:10:15   Log-Likelihood:                -53.883\n",
      "No. Observations:                  18   AIC:                             111.8\n",
      "Df Residuals:                      16   BIC:                             113.5\n",
      "Df Model:                           1                                         \n",
      "Covariance Type:            nonrobust                                         \n",
      "==============================================================================\n",
      "                 coef    std err          t      P>|t|      [0.025      0.975]\n",
      "------------------------------------------------------------------------------\n",
      "const          3.2480      2.575      1.261      0.225      -2.210       8.706\n",
      "Hours          9.9489      0.469     21.216      0.000       8.955      10.943\n",
      "==============================================================================\n",
      "Omnibus:                        3.724   Durbin-Watson:                   1.672\n",
      "Prob(Omnibus):                  0.155   Jarque-Bera (JB):                2.315\n",
      "Skew:                          -0.678   Prob(JB):                        0.314\n",
      "Kurtosis:                       1.884   Cond. No.                         12.0\n",
      "==============================================================================\n",
      "\n",
      "Notes:\n",
      "[1] Standard Errors assume that the covariance matrix of the errors is correctly specified.\n"
     ]
    }
   ],
   "source": [
    "print(results_scores.summary())"
   ]
  },
  {
   "cell_type": "code",
   "execution_count": 21,
   "id": "099fc557",
   "metadata": {},
   "outputs": [
    {
     "name": "stdout",
     "output_type": "stream",
     "text": [
      "The intercept value is 3.248\n",
      "The coefficient (slope) for the study hours independent variable is 9.949\n",
      "The sum of square residuals is 419.7\n"
     ]
    }
   ],
   "source": [
    "intercept_scores = results_scores.params[0]\n",
    "hours_coeff = results_scores.params[1]\n",
    "ssr_scores = results_scores.ssr\n",
    "\n",
    "print('The intercept value is {:.3f}'.format(intercept_scores))\n",
    "print('The coefficient (slope) for the study hours independent variable is {:.3f}'.format(hours_coeff))\n",
    "print('The sum of square residuals is {:.1f}'.format(ssr_scores))"
   ]
  },
  {
   "cell_type": "code",
   "execution_count": 22,
   "id": "6082729d",
   "metadata": {},
   "outputs": [
    {
     "data": {
      "image/png": "[encoded data removed]",
      "text/plain": [
       "<Figure size 640x480 with 1 Axes>"
      ]
     },
     "metadata": {},
     "output_type": "display_data"
    }
   ],
   "source": [
    "x_synthetic = np.linspace(0,train_df.Hours.max(), 50)\n",
    "y_pred_scores = hours_coeff*x_synthetic + intercept_scores\n",
    "plot.scatter(train_df.Hours, train_df.Scores, label='Observed')\n",
    "plot.plot(x_synthetic, y_pred_scores, color='k', ls='--', label='Model')\n",
    "plot.xlabel('Hours')\n",
    "plot.ylabel('Scores')\n",
    "plot.legend()\n",
    "plot.show()"
   ]
  },
  {
   "cell_type": "markdown",
   "id": "8b552062",
   "metadata": {},
   "source": [
    "Our model does an okay job at explaining the variations in student scores. "
   ]
  },
  {
   "cell_type": "markdown",
   "id": "fdc80b0d",
   "metadata": {},
   "source": [
    "## Apply to Test data"
   ]
  },
  {
   "cell_type": "code",
   "execution_count": 23,
   "id": "d2ee039d",
   "metadata": {},
   "outputs": [],
   "source": [
    "Y_test = grades_df.Scores\n",
    "X_test = stats.add_constant(grades_df.Hours)"
   ]
  },
  {
   "cell_type": "code",
   "execution_count": 24,
   "id": "8f47b511",
   "metadata": {},
   "outputs": [],
   "source": [
    "test_predictions = results_scores.predict(X_test)"
   ]
  },
  {
   "cell_type": "code",
   "execution_count": 25,
   "id": "45bffd5a",
   "metadata": {},
   "outputs": [
    {
     "data": {
      "image/png": "[encoded data removed]",
      "text/plain": [
       "<Figure size 640x480 with 1 Axes>"
      ]
     },
     "metadata": {},
     "output_type": "display_data"
    }
   ],
   "source": [
    "plot.scatter(test_predictions, Y_test, label='Observed')\n",
    "plot.plot([10, 100], [10, 100], c='k', ls='--', label='Model')\n",
    "plot.xlabel('Predicted Scores')\n",
    "plot.ylabel('Observed Scores')\n",
    "plot.legend()\n",
    "plot.show()"
   ]
  },
  {
   "cell_type": "markdown",
   "id": "716a56a9",
   "metadata": {},
   "source": [
    "From here, we can see that there are some variations that cannot be explained by the model. Hence, more independent variables need to be added for more accurate results."
   ]
  },
  {
   "cell_type": "markdown",
   "id": "c4448396",
   "metadata": {},
   "source": [
    "## Residuals"
   ]
  },
  {
   "cell_type": "code",
   "execution_count": 26,
   "id": "1cd51925",
   "metadata": {},
   "outputs": [
    {
     "data": {
      "text/plain": [
       "10    5.145743\n",
       "17    1.849143\n",
       "12   -7.017898\n",
       "20   -0.109947\n",
       "21    2.997443\n",
       "2    -8.084378\n",
       "19   -7.869598\n",
       "13    5.920736\n",
       "6    -6.777550\n",
       "0    -7.120174\n",
       "11    0.053695\n",
       "16    1.879826\n",
       "15    3.207109\n",
       "23    4.104833\n",
       "14    2.808232\n",
       "7     2.033240\n",
       "24    5.150857\n",
       "5     1.828688\n",
       "dtype: float64"
      ]
     },
     "execution_count": 26,
     "metadata": {},
     "output_type": "execute_result"
    }
   ],
   "source": [
    "results_scores.resid"
   ]
  },
  {
   "cell_type": "code",
   "execution_count": 27,
   "id": "8506f008",
   "metadata": {},
   "outputs": [
    {
     "data": {
      "image/png": "[encoded data removed]",
      "text/plain": [
       "<Figure size 640x480 with 1 Axes>"
      ]
     },
     "metadata": {},
     "output_type": "display_data"
    }
   ],
   "source": [
    "plot.scatter(results_scores.fittedvalues, results_scores.resid)\n",
    "plot.plot([10,100], [0,0], c='k', ls='--')\n",
    "plot.xlabel('Training Data')\n",
    "plot.ylabel('Residuals')\n",
    "plot.show()"
   ]
  },
  {
   "cell_type": "markdown",
   "id": "6c430f58",
   "metadata": {},
   "source": [
    "The data is unbiased as it satisfies the zero mean error assumption, furthermore, we can observe randomness in the data. "
   ]
  },
  {
   "cell_type": "markdown",
   "id": "eea59455",
   "metadata": {},
   "source": [
    "## Evaluate Model"
   ]
  },
  {
   "cell_type": "markdown",
   "id": "b882b1b7",
   "metadata": {},
   "source": [
    "We are going to evaluate our model using several metrices such as Mean Square Error (MSE), Root Mean Square Error (RMSE), Mean Absolute Error (MAE), R2 and Adjusted R2 "
   ]
  },
  {
   "cell_type": "code",
   "execution_count": 28,
   "id": "1fad4f8b",
   "metadata": {},
   "outputs": [
    {
     "name": "stdout",
     "output_type": "stream",
     "text": [
      "The training dataset mean square error is 23.3\n"
     ]
    }
   ],
   "source": [
    "train_mse = stats.tools.eval_measures.mse(Y_train, results_scores.fittedvalues)\n",
    "print('The training dataset mean square error is {}'.format(train_mse.round(1)))"
   ]
  },
  {
   "cell_type": "code",
   "execution_count": 66,
   "id": "a609f58d",
   "metadata": {},
   "outputs": [
    {
     "name": "stdout",
     "output_type": "stream",
     "text": [
      "The training dataset root mean square error is 4.8\n"
     ]
    }
   ],
   "source": [
    "train_rmse = stats.tools.eval_measures.rmse(Y_train, results_scores.fittedvalues)\n",
    "print('The training dataset root mean square error is {}'.format(train_rmse.round(1)))"
   ]
  },
  {
   "cell_type": "code",
   "execution_count": 67,
   "id": "61c57f5d",
   "metadata": {},
   "outputs": [
    {
     "name": "stdout",
     "output_type": "stream",
     "text": [
      "The training dataset mean absolute error is 4.1\n"
     ]
    }
   ],
   "source": [
    "train_mae = stats.tools.eval_measures.meanabs(Y_train, results_scores.fittedvalues)\n",
    "print('The training dataset mean absolute error is {}'.format(train_mae.round(1)))"
   ]
  },
  {
   "cell_type": "code",
   "execution_count": 68,
   "id": "d430256a",
   "metadata": {},
   "outputs": [
    {
     "name": "stdout",
     "output_type": "stream",
     "text": [
      "The training dataset coefficient of determination is 0.966\n"
     ]
    }
   ],
   "source": [
    "train_r2 = results_scores.rsquared\n",
    "print('The training dataset coefficient of determination is {}'.format(train_r2.round(3)))"
   ]
  },
  {
   "cell_type": "code",
   "execution_count": 69,
   "id": "c3a9ecf0",
   "metadata": {},
   "outputs": [
    {
     "name": "stdout",
     "output_type": "stream",
     "text": [
      "The training dataset adjusted coefficient of determination is 0.964\n"
     ]
    }
   ],
   "source": [
    "train_r2_adj = results_scores.rsquared_adj\n",
    "print('The training dataset adjusted coefficient of determination is {}'.format(train_r2_adj.round(3)))"
   ]
  },
  {
   "cell_type": "markdown",
   "id": "210933b2",
   "metadata": {},
   "source": [
    "We can see above in the root mean square error that our predictions are typically around 4.8 marks off from the observed values and that the data explains 96.4% of the variation from the coefficient of determination."
   ]
  }
 ],
 "metadata": {
  "kernelspec": {
   "display_name": "Python 3 (ipykernel)",
   "language": "python",
   "name": "python3"
  },
  "language_info": {
   "codemirror_mode": {
    "name": "ipython",
    "version": 3
   },
   "file_extension": ".py",
   "mimetype": "text/x-python",
   "name": "python",
   "nbconvert_exporter": "python",
   "pygments_lexer": "ipython3",
   "version": "3.10.9"
  }
 },
 "nbformat": 4,
 "nbformat_minor": 5
}
